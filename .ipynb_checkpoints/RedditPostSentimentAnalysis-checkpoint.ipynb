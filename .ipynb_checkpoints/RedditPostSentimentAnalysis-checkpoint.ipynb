{
 "cells": [
  {
   "cell_type": "markdown",
   "metadata": {},
   "source": [
    "# Reddit posts sentiment analysis"
   ]
  },
  {
   "cell_type": "code",
   "execution_count": 1,
   "metadata": {},
   "outputs": [],
   "source": [
    "import warnings\n",
    "warnings.filterwarnings('ignore')\n",
    "\n",
    "import os\n",
    "dir_Path = 'D:\\\\College\\\\NLP\\\\SentimentAnalysis'\n",
    "os.chdir(dir_Path)"
   ]
  },
  {
   "cell_type": "markdown",
   "metadata": {},
   "source": [
    "## Data Facts and Import "
   ]
  },
  {
   "cell_type": "code",
   "execution_count": 2,
   "metadata": {},
   "outputs": [],
   "source": [
    "import pandas as pd \n",
    "Postdata = pd.read_csv('RedditData.csv')"
   ]
  },
  {
   "cell_type": "code",
   "execution_count": 3,
   "metadata": {},
   "outputs": [
    {
     "data": {
      "text/plain": [
       "(119998, 2)"
      ]
     },
     "execution_count": 3,
     "metadata": {},
     "output_type": "execute_result"
    }
   ],
   "source": [
    "Postdata.shape"
   ]
  },
  {
   "cell_type": "code",
   "execution_count": 4,
   "metadata": {},
   "outputs": [
    {
     "data": {
      "text/html": [
       "<div>\n",
       "<style scoped>\n",
       "    .dataframe tbody tr th:only-of-type {\n",
       "        vertical-align: middle;\n",
       "    }\n",
       "\n",
       "    .dataframe tbody tr th {\n",
       "        vertical-align: top;\n",
       "    }\n",
       "\n",
       "    .dataframe thead th {\n",
       "        text-align: right;\n",
       "    }\n",
       "</style>\n",
       "<table border=\"1\" class=\"dataframe\">\n",
       "  <thead>\n",
       "    <tr style=\"text-align: right;\">\n",
       "      <th></th>\n",
       "      <th>redditpost</th>\n",
       "      <th>category</th>\n",
       "    </tr>\n",
       "  </thead>\n",
       "  <tbody>\n",
       "    <tr>\n",
       "      <th>0</th>\n",
       "      <td>When modi promised minimum government maximum ...</td>\n",
       "      <td>-1</td>\n",
       "    </tr>\n",
       "    <tr>\n",
       "      <th>1</th>\n",
       "      <td>Talk all the nonsense and continue all the dra...</td>\n",
       "      <td>0</td>\n",
       "    </tr>\n",
       "    <tr>\n",
       "      <th>2</th>\n",
       "      <td>what did just say vote for modi  welcome bjp t...</td>\n",
       "      <td>1</td>\n",
       "    </tr>\n",
       "    <tr>\n",
       "      <th>3</th>\n",
       "      <td>asking his supporters prefix chowkidar their n...</td>\n",
       "      <td>1</td>\n",
       "    </tr>\n",
       "    <tr>\n",
       "      <th>4</th>\n",
       "      <td>answer who among these the most powerful world...</td>\n",
       "      <td>1</td>\n",
       "    </tr>\n",
       "  </tbody>\n",
       "</table>\n",
       "</div>"
      ],
      "text/plain": [
       "                                          redditpost  category\n",
       "0  When modi promised minimum government maximum ...        -1\n",
       "1  Talk all the nonsense and continue all the dra...         0\n",
       "2  what did just say vote for modi  welcome bjp t...         1\n",
       "3  asking his supporters prefix chowkidar their n...         1\n",
       "4  answer who among these the most powerful world...         1"
      ]
     },
     "execution_count": 4,
     "metadata": {},
     "output_type": "execute_result"
    }
   ],
   "source": [
    "Postdata.head()"
   ]
  },
  {
   "cell_type": "code",
   "execution_count": 5,
   "metadata": {},
   "outputs": [
    {
     "name": "stdout",
     "output_type": "stream",
     "text": [
      "<class 'pandas.core.frame.DataFrame'>\n",
      "RangeIndex: 119998 entries, 0 to 119997\n",
      "Data columns (total 2 columns):\n",
      " #   Column      Non-Null Count   Dtype \n",
      "---  ------      --------------   ----- \n",
      " 0   redditpost  119998 non-null  object\n",
      " 1   category    119998 non-null  int64 \n",
      "dtypes: int64(1), object(1)\n",
      "memory usage: 1.8+ MB\n"
     ]
    }
   ],
   "source": [
    "Postdata.info()"
   ]
  },
  {
   "cell_type": "code",
   "execution_count": 6,
   "metadata": {},
   "outputs": [
    {
     "data": {
      "text/html": [
       "<div>\n",
       "<style scoped>\n",
       "    .dataframe tbody tr th:only-of-type {\n",
       "        vertical-align: middle;\n",
       "    }\n",
       "\n",
       "    .dataframe tbody tr th {\n",
       "        vertical-align: top;\n",
       "    }\n",
       "\n",
       "    .dataframe thead th {\n",
       "        text-align: right;\n",
       "    }\n",
       "</style>\n",
       "<table border=\"1\" class=\"dataframe\">\n",
       "  <thead>\n",
       "    <tr style=\"text-align: right;\">\n",
       "      <th></th>\n",
       "      <th>category</th>\n",
       "    </tr>\n",
       "  </thead>\n",
       "  <tbody>\n",
       "    <tr>\n",
       "      <th>count</th>\n",
       "      <td>119998.000000</td>\n",
       "    </tr>\n",
       "    <tr>\n",
       "      <th>mean</th>\n",
       "      <td>0.228037</td>\n",
       "    </tr>\n",
       "    <tr>\n",
       "      <th>std</th>\n",
       "      <td>0.780352</td>\n",
       "    </tr>\n",
       "    <tr>\n",
       "      <th>min</th>\n",
       "      <td>-1.000000</td>\n",
       "    </tr>\n",
       "    <tr>\n",
       "      <th>25%</th>\n",
       "      <td>0.000000</td>\n",
       "    </tr>\n",
       "    <tr>\n",
       "      <th>50%</th>\n",
       "      <td>0.000000</td>\n",
       "    </tr>\n",
       "    <tr>\n",
       "      <th>75%</th>\n",
       "      <td>1.000000</td>\n",
       "    </tr>\n",
       "    <tr>\n",
       "      <th>max</th>\n",
       "      <td>1.000000</td>\n",
       "    </tr>\n",
       "  </tbody>\n",
       "</table>\n",
       "</div>"
      ],
      "text/plain": [
       "            category\n",
       "count  119998.000000\n",
       "mean        0.228037\n",
       "std         0.780352\n",
       "min        -1.000000\n",
       "25%         0.000000\n",
       "50%         0.000000\n",
       "75%         1.000000\n",
       "max         1.000000"
      ]
     },
     "execution_count": 6,
     "metadata": {},
     "output_type": "execute_result"
    }
   ],
   "source": [
    "Postdata.describe()"
   ]
  },
  {
   "cell_type": "markdown",
   "metadata": {},
   "source": [
    "## Data Cleaning / EDA"
   ]
  },
  {
   "cell_type": "code",
   "execution_count": 7,
   "metadata": {},
   "outputs": [
    {
     "name": "stdout",
     "output_type": "stream",
     "text": [
      "Count and percentage of missing values for the columns:\n"
     ]
    },
    {
     "data": {
      "text/html": [
       "<div>\n",
       "<style scoped>\n",
       "    .dataframe tbody tr th:only-of-type {\n",
       "        vertical-align: middle;\n",
       "    }\n",
       "\n",
       "    .dataframe tbody tr th {\n",
       "        vertical-align: top;\n",
       "    }\n",
       "\n",
       "    .dataframe thead th {\n",
       "        text-align: right;\n",
       "    }\n",
       "</style>\n",
       "<table border=\"1\" class=\"dataframe\">\n",
       "  <thead>\n",
       "    <tr style=\"text-align: right;\">\n",
       "      <th></th>\n",
       "      <th>Count</th>\n",
       "      <th>Percentage</th>\n",
       "    </tr>\n",
       "  </thead>\n",
       "  <tbody>\n",
       "    <tr>\n",
       "      <th>redditpost</th>\n",
       "      <td>0</td>\n",
       "      <td>0.0</td>\n",
       "    </tr>\n",
       "    <tr>\n",
       "      <th>category</th>\n",
       "      <td>0</td>\n",
       "      <td>0.0</td>\n",
       "    </tr>\n",
       "  </tbody>\n",
       "</table>\n",
       "</div>"
      ],
      "text/plain": [
       "            Count  Percentage\n",
       "redditpost      0         0.0\n",
       "category        0         0.0"
      ]
     },
     "execution_count": 7,
     "metadata": {},
     "output_type": "execute_result"
    }
   ],
   "source": [
    "### Checking Missing values in the csv file\n",
    "\n",
    "count = Postdata.isnull().sum().sort_values(ascending=False)\n",
    "percentage = ((Postdata.isnull().sum()/len(Postdata)*100)).sort_values(ascending=False)\n",
    "missing_data = pd.concat([count, percentage], axis=1,\n",
    "keys=['Count','Percentage'])\n",
    "\n",
    "print('Count and percentage of missing values for the columns:')\n",
    "\n",
    "missing_data"
   ]
  },
  {
   "cell_type": "code",
   "execution_count": 8,
   "metadata": {},
   "outputs": [
    {
     "name": "stdout",
     "output_type": "stream",
     "text": [
      "Percentage for category\n",
      "\n",
      " 1    44.45\n",
      " 0    33.91\n",
      "-1    21.65\n",
      "Name: category, dtype: float64\n"
     ]
    },
    {
     "data": {
      "image/png": "[encoded data removed]",
      "text/plain": [
       "<Figure size 432x288 with 1 Axes>"
      ]
     },
     "metadata": {
      "needs_background": "light"
     },
     "output_type": "display_data"
    }
   ],
   "source": [
    "### Checking for the Distribution of Category ###\n",
    "import matplotlib.pyplot as plt\n",
    "%matplotlib inline\n",
    "print('Percentage for category\\n')\n",
    "print(round(Postdata.category.value_counts(normalize=True)*100,2))\n",
    "round(Postdata.category.value_counts(normalize=True)*100,2).plot(kind='bar')\n",
    "plt.title('Percentage Distributions by the category type')\n",
    "plt.show()"
   ]
  },
  {
   "cell_type": "code",
   "execution_count": 9,
   "metadata": {},
   "outputs": [
    {
     "data": {
      "text/html": [
       "<div>\n",
       "<style scoped>\n",
       "    .dataframe tbody tr th:only-of-type {\n",
       "        vertical-align: middle;\n",
       "    }\n",
       "\n",
       "    .dataframe tbody tr th {\n",
       "        vertical-align: top;\n",
       "    }\n",
       "\n",
       "    .dataframe thead th {\n",
       "        text-align: right;\n",
       "    }\n",
       "</style>\n",
       "<table border=\"1\" class=\"dataframe\">\n",
       "  <thead>\n",
       "    <tr style=\"text-align: right;\">\n",
       "      <th></th>\n",
       "      <th>redditpost</th>\n",
       "      <th>category</th>\n",
       "    </tr>\n",
       "  </thead>\n",
       "  <tbody>\n",
       "    <tr>\n",
       "      <th>0</th>\n",
       "      <td>When modi promised minimum government maximum ...</td>\n",
       "      <td>-1</td>\n",
       "    </tr>\n",
       "    <tr>\n",
       "      <th>1</th>\n",
       "      <td>Talk all the nonsense and continue all the dra...</td>\n",
       "      <td>0</td>\n",
       "    </tr>\n",
       "    <tr>\n",
       "      <th>2</th>\n",
       "      <td>what did just say vote for modi  welcome bjp t...</td>\n",
       "      <td>1</td>\n",
       "    </tr>\n",
       "    <tr>\n",
       "      <th>3</th>\n",
       "      <td>asking his supporters prefix chowkidar their n...</td>\n",
       "      <td>1</td>\n",
       "    </tr>\n",
       "    <tr>\n",
       "      <th>4</th>\n",
       "      <td>answer who among these the most powerful world...</td>\n",
       "      <td>1</td>\n",
       "    </tr>\n",
       "    <tr>\n",
       "      <th>5</th>\n",
       "      <td>kiya tho refresh maarkefir comment karo</td>\n",
       "      <td>0</td>\n",
       "    </tr>\n",
       "    <tr>\n",
       "      <th>6</th>\n",
       "      <td>surat women perform yagna seeks divine grace f...</td>\n",
       "      <td>0</td>\n",
       "    </tr>\n",
       "    <tr>\n",
       "      <th>7</th>\n",
       "      <td>this comes from cabinet which has scholars lik...</td>\n",
       "      <td>0</td>\n",
       "    </tr>\n",
       "    <tr>\n",
       "      <th>8</th>\n",
       "      <td>with upcoming election india saga going import...</td>\n",
       "      <td>1</td>\n",
       "    </tr>\n",
       "    <tr>\n",
       "      <th>9</th>\n",
       "      <td>gandhi was gay does modi</td>\n",
       "      <td>1</td>\n",
       "    </tr>\n",
       "  </tbody>\n",
       "</table>\n",
       "</div>"
      ],
      "text/plain": [
       "                                          redditpost  category\n",
       "0  When modi promised minimum government maximum ...        -1\n",
       "1  Talk all the nonsense and continue all the dra...         0\n",
       "2  what did just say vote for modi  welcome bjp t...         1\n",
       "3  asking his supporters prefix chowkidar their n...         1\n",
       "4  answer who among these the most powerful world...         1\n",
       "5           kiya tho refresh maarkefir comment karo          0\n",
       "6  surat women perform yagna seeks divine grace f...         0\n",
       "7  this comes from cabinet which has scholars lik...         0\n",
       "8  with upcoming election india saga going import...         1\n",
       "9                         gandhi was gay does modi           1"
      ]
     },
     "execution_count": 9,
     "metadata": {},
     "output_type": "execute_result"
    }
   ],
   "source": [
    "Postdata.head(10)"
   ]
  },
  {
   "cell_type": "code",
   "execution_count": 10,
   "metadata": {},
   "outputs": [],
   "source": [
    "# First level cleaning\n",
    "import re\n",
    "import string\n",
    "\n",
    "#This function converts to lower-case, removes square bracket, removes numbers and punctuation\n",
    "def text_clean_1(text):\n",
    "    \n",
    "    #Convert the text to lower\n",
    "    text = text.lower()\n",
    "    \n",
    "    #Remove the brackets\n",
    "    text = re.sub('\\[.*?\\]', '', text)\n",
    "    \n",
    "    #Remove the punctuations\n",
    "    text = re.sub('[%s]' % re.escape(string.punctuation), '', text)\n",
    "    \n",
    "    #Remove the digits\n",
    "    text = re.sub('\\w*\\d\\w*', '', text)\n",
    "    \n",
    "    return text\n",
    "\n",
    "cleaned1 = lambda x: text_clean_1(x)"
   ]
  },
  {
   "cell_type": "code",
   "execution_count": 11,
   "metadata": {},
   "outputs": [
    {
     "data": {
      "text/html": [
       "<div>\n",
       "<style scoped>\n",
       "    .dataframe tbody tr th:only-of-type {\n",
       "        vertical-align: middle;\n",
       "    }\n",
       "\n",
       "    .dataframe tbody tr th {\n",
       "        vertical-align: top;\n",
       "    }\n",
       "\n",
       "    .dataframe thead th {\n",
       "        text-align: right;\n",
       "    }\n",
       "</style>\n",
       "<table border=\"1\" class=\"dataframe\">\n",
       "  <thead>\n",
       "    <tr style=\"text-align: right;\">\n",
       "      <th></th>\n",
       "      <th>redditpost</th>\n",
       "      <th>category</th>\n",
       "      <th>cleaned_post_data</th>\n",
       "    </tr>\n",
       "  </thead>\n",
       "  <tbody>\n",
       "    <tr>\n",
       "      <th>0</th>\n",
       "      <td>When modi promised minimum government maximum ...</td>\n",
       "      <td>-1</td>\n",
       "      <td>when modi promised minimum government maximum ...</td>\n",
       "    </tr>\n",
       "    <tr>\n",
       "      <th>1</th>\n",
       "      <td>Talk all the nonsense and continue all the dra...</td>\n",
       "      <td>0</td>\n",
       "      <td>talk all the nonsense and continue all the dra...</td>\n",
       "    </tr>\n",
       "    <tr>\n",
       "      <th>2</th>\n",
       "      <td>what did just say vote for modi  welcome bjp t...</td>\n",
       "      <td>1</td>\n",
       "      <td>what did just say vote for modi  welcome bjp t...</td>\n",
       "    </tr>\n",
       "    <tr>\n",
       "      <th>3</th>\n",
       "      <td>asking his supporters prefix chowkidar their n...</td>\n",
       "      <td>1</td>\n",
       "      <td>asking his supporters prefix chowkidar their n...</td>\n",
       "    </tr>\n",
       "    <tr>\n",
       "      <th>4</th>\n",
       "      <td>answer who among these the most powerful world...</td>\n",
       "      <td>1</td>\n",
       "      <td>answer who among these the most powerful world...</td>\n",
       "    </tr>\n",
       "    <tr>\n",
       "      <th>5</th>\n",
       "      <td>kiya tho refresh maarkefir comment karo</td>\n",
       "      <td>0</td>\n",
       "      <td>kiya tho refresh maarkefir comment karo</td>\n",
       "    </tr>\n",
       "    <tr>\n",
       "      <th>6</th>\n",
       "      <td>surat women perform yagna seeks divine grace f...</td>\n",
       "      <td>0</td>\n",
       "      <td>surat women perform yagna seeks divine grace f...</td>\n",
       "    </tr>\n",
       "    <tr>\n",
       "      <th>7</th>\n",
       "      <td>this comes from cabinet which has scholars lik...</td>\n",
       "      <td>0</td>\n",
       "      <td>this comes from cabinet which has scholars lik...</td>\n",
       "    </tr>\n",
       "    <tr>\n",
       "      <th>8</th>\n",
       "      <td>with upcoming election india saga going import...</td>\n",
       "      <td>1</td>\n",
       "      <td>with upcoming election india saga going import...</td>\n",
       "    </tr>\n",
       "    <tr>\n",
       "      <th>9</th>\n",
       "      <td>gandhi was gay does modi</td>\n",
       "      <td>1</td>\n",
       "      <td>gandhi was gay does modi</td>\n",
       "    </tr>\n",
       "  </tbody>\n",
       "</table>\n",
       "</div>"
      ],
      "text/plain": [
       "                                          redditpost  category  \\\n",
       "0  When modi promised minimum government maximum ...        -1   \n",
       "1  Talk all the nonsense and continue all the dra...         0   \n",
       "2  what did just say vote for modi  welcome bjp t...         1   \n",
       "3  asking his supporters prefix chowkidar their n...         1   \n",
       "4  answer who among these the most powerful world...         1   \n",
       "5           kiya tho refresh maarkefir comment karo          0   \n",
       "6  surat women perform yagna seeks divine grace f...         0   \n",
       "7  this comes from cabinet which has scholars lik...         0   \n",
       "8  with upcoming election india saga going import...         1   \n",
       "9                         gandhi was gay does modi           1   \n",
       "\n",
       "                                   cleaned_post_data  \n",
       "0  when modi promised minimum government maximum ...  \n",
       "1  talk all the nonsense and continue all the dra...  \n",
       "2  what did just say vote for modi  welcome bjp t...  \n",
       "3  asking his supporters prefix chowkidar their n...  \n",
       "4  answer who among these the most powerful world...  \n",
       "5           kiya tho refresh maarkefir comment karo   \n",
       "6  surat women perform yagna seeks divine grace f...  \n",
       "7  this comes from cabinet which has scholars lik...  \n",
       "8  with upcoming election india saga going import...  \n",
       "9                         gandhi was gay does modi    "
      ]
     },
     "execution_count": 11,
     "metadata": {},
     "output_type": "execute_result"
    }
   ],
   "source": [
    "# Updated text\n",
    "Postdata['cleaned_post_data'] = pd.DataFrame(Postdata.redditpost.apply(cleaned1))\n",
    "Postdata.head(10)"
   ]
  },
  {
   "cell_type": "code",
   "execution_count": 12,
   "metadata": {},
   "outputs": [],
   "source": [
    "# Apply a second round of cleaning\n",
    "def text_clean_2(text):\n",
    "    \n",
    "    #Replacing quotes with blanks\n",
    "    text = re.sub('[‘’“”…]', '', text)\n",
    "    \n",
    "    #Replacing new lines with blank\n",
    "    text = re.sub('\\n', '', text)\n",
    "    return text\n",
    "\n",
    "cleaned2 = lambda x: text_clean_2(x)"
   ]
  },
  {
   "cell_type": "code",
   "execution_count": 13,
   "metadata": {},
   "outputs": [
    {
     "data": {
      "text/html": [
       "<div>\n",
       "<style scoped>\n",
       "    .dataframe tbody tr th:only-of-type {\n",
       "        vertical-align: middle;\n",
       "    }\n",
       "\n",
       "    .dataframe tbody tr th {\n",
       "        vertical-align: top;\n",
       "    }\n",
       "\n",
       "    .dataframe thead th {\n",
       "        text-align: right;\n",
       "    }\n",
       "</style>\n",
       "<table border=\"1\" class=\"dataframe\">\n",
       "  <thead>\n",
       "    <tr style=\"text-align: right;\">\n",
       "      <th></th>\n",
       "      <th>redditpost</th>\n",
       "      <th>category</th>\n",
       "      <th>cleaned_post_data</th>\n",
       "      <th>cleaned_data</th>\n",
       "    </tr>\n",
       "  </thead>\n",
       "  <tbody>\n",
       "    <tr>\n",
       "      <th>0</th>\n",
       "      <td>When modi promised minimum government maximum ...</td>\n",
       "      <td>-1</td>\n",
       "      <td>when modi promised minimum government maximum ...</td>\n",
       "      <td>when modi promised minimum government maximum ...</td>\n",
       "    </tr>\n",
       "    <tr>\n",
       "      <th>1</th>\n",
       "      <td>Talk all the nonsense and continue all the dra...</td>\n",
       "      <td>0</td>\n",
       "      <td>talk all the nonsense and continue all the dra...</td>\n",
       "      <td>talk all the nonsense and continue all the dra...</td>\n",
       "    </tr>\n",
       "    <tr>\n",
       "      <th>2</th>\n",
       "      <td>what did just say vote for modi  welcome bjp t...</td>\n",
       "      <td>1</td>\n",
       "      <td>what did just say vote for modi  welcome bjp t...</td>\n",
       "      <td>what did just say vote for modi  welcome bjp t...</td>\n",
       "    </tr>\n",
       "    <tr>\n",
       "      <th>3</th>\n",
       "      <td>asking his supporters prefix chowkidar their n...</td>\n",
       "      <td>1</td>\n",
       "      <td>asking his supporters prefix chowkidar their n...</td>\n",
       "      <td>asking his supporters prefix chowkidar their n...</td>\n",
       "    </tr>\n",
       "    <tr>\n",
       "      <th>4</th>\n",
       "      <td>answer who among these the most powerful world...</td>\n",
       "      <td>1</td>\n",
       "      <td>answer who among these the most powerful world...</td>\n",
       "      <td>answer who among these the most powerful world...</td>\n",
       "    </tr>\n",
       "    <tr>\n",
       "      <th>5</th>\n",
       "      <td>kiya tho refresh maarkefir comment karo</td>\n",
       "      <td>0</td>\n",
       "      <td>kiya tho refresh maarkefir comment karo</td>\n",
       "      <td>kiya tho refresh maarkefir comment karo</td>\n",
       "    </tr>\n",
       "    <tr>\n",
       "      <th>6</th>\n",
       "      <td>surat women perform yagna seeks divine grace f...</td>\n",
       "      <td>0</td>\n",
       "      <td>surat women perform yagna seeks divine grace f...</td>\n",
       "      <td>surat women perform yagna seeks divine grace f...</td>\n",
       "    </tr>\n",
       "    <tr>\n",
       "      <th>7</th>\n",
       "      <td>this comes from cabinet which has scholars lik...</td>\n",
       "      <td>0</td>\n",
       "      <td>this comes from cabinet which has scholars lik...</td>\n",
       "      <td>this comes from cabinet which has scholars lik...</td>\n",
       "    </tr>\n",
       "    <tr>\n",
       "      <th>8</th>\n",
       "      <td>with upcoming election india saga going import...</td>\n",
       "      <td>1</td>\n",
       "      <td>with upcoming election india saga going import...</td>\n",
       "      <td>with upcoming election india saga going import...</td>\n",
       "    </tr>\n",
       "    <tr>\n",
       "      <th>9</th>\n",
       "      <td>gandhi was gay does modi</td>\n",
       "      <td>1</td>\n",
       "      <td>gandhi was gay does modi</td>\n",
       "      <td>gandhi was gay does modi</td>\n",
       "    </tr>\n",
       "  </tbody>\n",
       "</table>\n",
       "</div>"
      ],
      "text/plain": [
       "                                          redditpost  category  \\\n",
       "0  When modi promised minimum government maximum ...        -1   \n",
       "1  Talk all the nonsense and continue all the dra...         0   \n",
       "2  what did just say vote for modi  welcome bjp t...         1   \n",
       "3  asking his supporters prefix chowkidar their n...         1   \n",
       "4  answer who among these the most powerful world...         1   \n",
       "5           kiya tho refresh maarkefir comment karo          0   \n",
       "6  surat women perform yagna seeks divine grace f...         0   \n",
       "7  this comes from cabinet which has scholars lik...         0   \n",
       "8  with upcoming election india saga going import...         1   \n",
       "9                         gandhi was gay does modi           1   \n",
       "\n",
       "                                   cleaned_post_data  \\\n",
       "0  when modi promised minimum government maximum ...   \n",
       "1  talk all the nonsense and continue all the dra...   \n",
       "2  what did just say vote for modi  welcome bjp t...   \n",
       "3  asking his supporters prefix chowkidar their n...   \n",
       "4  answer who among these the most powerful world...   \n",
       "5           kiya tho refresh maarkefir comment karo    \n",
       "6  surat women perform yagna seeks divine grace f...   \n",
       "7  this comes from cabinet which has scholars lik...   \n",
       "8  with upcoming election india saga going import...   \n",
       "9                         gandhi was gay does modi     \n",
       "\n",
       "                                        cleaned_data  \n",
       "0  when modi promised minimum government maximum ...  \n",
       "1  talk all the nonsense and continue all the dra...  \n",
       "2  what did just say vote for modi  welcome bjp t...  \n",
       "3  asking his supporters prefix chowkidar their n...  \n",
       "4  answer who among these the most powerful world...  \n",
       "5           kiya tho refresh maarkefir comment karo   \n",
       "6  surat women perform yagna seeks divine grace f...  \n",
       "7  this comes from cabinet which has scholars lik...  \n",
       "8  with upcoming election india saga going import...  \n",
       "9                         gandhi was gay does modi    "
      ]
     },
     "execution_count": 13,
     "metadata": {},
     "output_type": "execute_result"
    }
   ],
   "source": [
    "# Let's take a look at the updated text\n",
    "Postdata['cleaned_data'] = pd.DataFrame(Postdata['cleaned_post_data'].apply(cleaned2))\n",
    "Postdata.head(10)"
   ]
  },
  {
   "cell_type": "markdown",
   "metadata": {},
   "source": [
    "## Model training "
   ]
  },
  {
   "cell_type": "code",
   "execution_count": 14,
   "metadata": {},
   "outputs": [
    {
     "name": "stdout",
     "output_type": "stream",
     "text": [
      "IV_train : 107998\n",
      "IV_test  : 12000\n",
      "DV_train : 107998\n",
      "DV_test  : 12000\n"
     ]
    }
   ],
   "source": [
    "from sklearn.model_selection import train_test_split\n",
    "\n",
    "#Independent variable\n",
    "Independent_var = Postdata.cleaned_data\n",
    "\n",
    "#Target variable\n",
    "Dependent_var = Postdata.category\n",
    "\n",
    "IV_train, IV_test, DV_train, DV_test = train_test_split(Independent_var, Dependent_var, test_size = 0.1, random_state = 225)\n",
    "\n",
    "print('IV_train :', len(IV_train))\n",
    "print('IV_test  :', len(IV_test))\n",
    "print('DV_train :', len(DV_train))\n",
    "print('DV_test  :', len(DV_test))\n"
   ]
  },
  {
   "cell_type": "code",
   "execution_count": 15,
   "metadata": {},
   "outputs": [],
   "source": [
    "from sklearn.feature_extraction.text import TfidfVectorizer\n",
    "from sklearn.linear_model import LogisticRegression\n",
    "\n",
    "tvec = TfidfVectorizer()\n",
    "clf2 = LogisticRegression(solver = \"lbfgs\")\n",
    "\n",
    "\n",
    "from sklearn.pipeline import Pipeline"
   ]
  },
  {
   "cell_type": "code",
   "execution_count": 16,
   "metadata": {},
   "outputs": [
    {
     "data": {
      "text/plain": [
       "array([[2099,   34,  177],\n",
       "       [ 215, 3981,  212],\n",
       "       [ 313,   74, 4895]], dtype=int64)"
      ]
     },
     "execution_count": 16,
     "metadata": {},
     "output_type": "execute_result"
    }
   ],
   "source": [
    "model = Pipeline([('vectorizer',tvec),('classifier',clf2)])\n",
    "\n",
    "model.fit(IV_train, DV_train)\n",
    "\n",
    "\n",
    "from sklearn.metrics import confusion_matrix\n",
    "\n",
    "predictions = model.predict(IV_test)\n",
    "\n",
    "confusion_matrix(predictions, DV_test)"
   ]
  },
  {
   "cell_type": "markdown",
   "metadata": {},
   "source": [
    "## Model prediciton "
   ]
  },
  {
   "cell_type": "code",
   "execution_count": 17,
   "metadata": {},
   "outputs": [
    {
     "name": "stdout",
     "output_type": "stream",
     "text": [
      "Accuracy :  0.9145833333333333\n",
      "Precision :  0.9192029539114785\n",
      "Recall :  0.9145833333333333\n"
     ]
    }
   ],
   "source": [
    "from sklearn.metrics import accuracy_score, precision_score, recall_score\n",
    "\n",
    "print(\"Accuracy : \", accuracy_score(predictions, DV_test))\n",
    "print(\"Precision : \", precision_score(predictions, DV_test, average = 'weighted'))\n",
    "print(\"Recall : \", recall_score(predictions, DV_test, average = 'weighted'))"
   ]
  },
  {
   "cell_type": "markdown",
   "metadata": {},
   "source": [
    "## Testing the model"
   ]
  },
  {
   "cell_type": "code",
   "execution_count": 29,
   "metadata": {},
   "outputs": [
    {
     "name": "stdout",
     "output_type": "stream",
     "text": [
      "[0]\n",
      "The sentiment is neutral\n"
     ]
    }
   ],
   "source": [
    "example = [\"I am very happy today\"]\n",
    "result = model.predict(example)\n",
    "\n",
    "print(result)\n",
    "if(result == [1]):\n",
    "    print(\"The sentiment is positive\")\n",
    "elif(result == [0]):\n",
    "    print(\"The sentiment is neutral\")\n",
    "else:\n",
    "    print(\"The sentiment is negative\")\n",
    "# -1 is negative sentiment\n",
    "#  0 is neutral sentiment\n",
    "#  1 is Positive sentiment"
   ]
  },
  {
   "cell_type": "code",
   "execution_count": null,
   "metadata": {},
   "outputs": [],
   "source": []
  }
 ],
 "metadata": {
  "kernelspec": {
   "display_name": "Python 3",
   "language": "python",
   "name": "python3"
  },
  "language_info": {
   "codemirror_mode": {
    "name": "ipython",
    "version": 3
   },
   "file_extension": ".py",
   "mimetype": "text/x-python",
   "name": "python",
   "nbconvert_exporter": "python",
   "pygments_lexer": "ipython3",
   "version": "3.8.0"
  }
 },
 "nbformat": 4,
 "nbformat_minor": 2
}
